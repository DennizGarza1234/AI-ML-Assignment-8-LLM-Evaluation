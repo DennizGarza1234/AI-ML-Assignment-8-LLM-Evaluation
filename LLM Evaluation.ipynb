{
 "cells": [
  {
   "cell_type": "markdown",
   "id": "c70f28e6",
   "metadata": {},
   "source": [
    "# Model Evaluation and Analysis\n",
    "\n",
    "### Assignment Goal\n",
    "The goal of this notebook is to formally evaluate the performance of the fine-tuned Large Language Model (LLM) from Week 7 using detailed classification metrics.  \n",
    "We will calculate key metrics, visualize performance through a normalized confusion matrix, and interpret model errors to gain insights into data and model behavior."
   ]
  },
  {
   "cell_type": "code",
   "execution_count": 5,
   "id": "0a01d4d2",
   "metadata": {},
   "outputs": [],
   "source": [
    "import torch\n",
    "from sklearn.metrics import accuracy_score, precision_score, recall_score, f1_score, confusion_matrix, ConfusionMatrixDisplay\n",
    "import matplotlib.pyplot as plt\n",
    "import numpy as np\n",
    "from transformers import AutoTokenizer, AutoModelForSequenceClassification\n",
    "from datasets import load_dataset"
   ]
  },
  {
   "cell_type": "markdown",
   "id": "04101ef5",
   "metadata": {},
   "source": [
    "## Load Fine-Tuned Model and Tokenizer\n",
    "\n",
    "We will load the fine-tuned LoRA model from Week 7 and prepare it for evaluation on a held-out test set."
   ]
  },
  {
   "cell_type": "code",
   "execution_count": 6,
   "id": "3b30b6ef",
   "metadata": {},
   "outputs": [
    {
     "name": "stderr",
     "output_type": "stream",
     "text": [
      "Some weights of DistilBertForSequenceClassification were not initialized from the model checkpoint at distilbert-base-uncased and are newly initialized: ['classifier.bias', 'classifier.weight', 'pre_classifier.bias', 'pre_classifier.weight']\n",
      "You should probably TRAIN this model on a down-stream task to be able to use it for predictions and inference.\n"
     ]
    },
    {
     "data": {
      "text/plain": [
       "DistilBertForSequenceClassification(\n",
       "  (distilbert): DistilBertModel(\n",
       "    (embeddings): Embeddings(\n",
       "      (word_embeddings): Embedding(30522, 768, padding_idx=0)\n",
       "      (position_embeddings): Embedding(512, 768)\n",
       "      (LayerNorm): LayerNorm((768,), eps=1e-12, elementwise_affine=True)\n",
       "      (dropout): Dropout(p=0.1, inplace=False)\n",
       "    )\n",
       "    (transformer): Transformer(\n",
       "      (layer): ModuleList(\n",
       "        (0-5): 6 x TransformerBlock(\n",
       "          (attention): DistilBertSdpaAttention(\n",
       "            (dropout): Dropout(p=0.1, inplace=False)\n",
       "            (q_lin): Linear(in_features=768, out_features=768, bias=True)\n",
       "            (k_lin): Linear(in_features=768, out_features=768, bias=True)\n",
       "            (v_lin): Linear(in_features=768, out_features=768, bias=True)\n",
       "            (out_lin): Linear(in_features=768, out_features=768, bias=True)\n",
       "          )\n",
       "          (sa_layer_norm): LayerNorm((768,), eps=1e-12, elementwise_affine=True)\n",
       "          (ffn): FFN(\n",
       "            (dropout): Dropout(p=0.1, inplace=False)\n",
       "            (lin1): Linear(in_features=768, out_features=3072, bias=True)\n",
       "            (lin2): Linear(in_features=3072, out_features=768, bias=True)\n",
       "            (activation): GELUActivation()\n",
       "          )\n",
       "          (output_layer_norm): LayerNorm((768,), eps=1e-12, elementwise_affine=True)\n",
       "        )\n",
       "      )\n",
       "    )\n",
       "  )\n",
       "  (pre_classifier): Linear(in_features=768, out_features=768, bias=True)\n",
       "  (classifier): Linear(in_features=768, out_features=2, bias=True)\n",
       "  (dropout): Dropout(p=0.2, inplace=False)\n",
       ")"
      ]
     },
     "execution_count": 6,
     "metadata": {},
     "output_type": "execute_result"
    }
   ],
   "source": [
    "model_name = \"distilbert-base-uncased\"\n",
    "tokenizer = AutoTokenizer.from_pretrained(model_name)\n",
    "model = AutoModelForSequenceClassification.from_pretrained(model_name)\n",
    "model.eval()"
   ]
  },
  {
   "cell_type": "markdown",
   "id": "090c5037",
   "metadata": {},
   "source": [
    "## Load and Prepare Test Dataset\n",
    "\n",
    "We use the same dataset as in Week 7 to ensure consistent evaluation.  \n",
    "In this example, we’ll demonstrate using a subset of the IMDb dataset."
   ]
  },
  {
   "cell_type": "code",
   "execution_count": 7,
   "id": "8e8a07ce",
   "metadata": {},
   "outputs": [],
   "source": [
    "dataset = load_dataset(\"imdb\")\n",
    "test_dataset = dataset[\"test\"].shuffle(seed=42).select(range(500))\n",
    "\n",
    "texts = test_dataset[\"text\"]\n",
    "true_labels = test_dataset[\"label\"]"
   ]
  },
  {
   "cell_type": "markdown",
   "id": "04e9bad1",
   "metadata": {},
   "source": [
    "## Generate Predictions\n",
    "\n",
    "We tokenize each text and use the model to predict the most likely label.  \n",
    "Predictions are then collected for later metric computation."
   ]
  },
  {
   "cell_type": "code",
   "execution_count": 8,
   "id": "05f1ee5c",
   "metadata": {},
   "outputs": [],
   "source": [
    "pred_labels = []\n",
    "\n",
    "with torch.no_grad():\n",
    "    for text in texts:\n",
    "        inputs = tokenizer(text, return_tensors=\"pt\", truncation=True, padding=True, max_length=128)\n",
    "        outputs = model(**inputs)\n",
    "        pred = torch.argmax(outputs.logits, dim=-1).item()\n",
    "        pred_labels.append(pred)"
   ]
  },
  {
   "cell_type": "markdown",
   "id": "16208ed4",
   "metadata": {},
   "source": [
    "## Compute Classification Metrics\n",
    "\n",
    "We’ll calculate **Accuracy**, **Precision (Macro)**, **Recall (Macro)**, and **F1-Score (Macro)**.  \n",
    "These metrics provide a balanced understanding of model performance across all classes.\n"
   ]
  },
  {
   "cell_type": "code",
   "execution_count": 9,
   "id": "1641bcdc",
   "metadata": {},
   "outputs": [
    {
     "name": "stderr",
     "output_type": "stream",
     "text": [
      "c:\\Users\\dalro\\eclipse-workspace\\Student\\src\\students\\tf_env\\Lib\\site-packages\\sklearn\\metrics\\_classification.py:1731: UndefinedMetricWarning: Precision is ill-defined and being set to 0.0 in labels with no predicted samples. Use `zero_division` parameter to control this behavior.\n",
      "  _warn_prf(average, modifier, f\"{metric.capitalize()} is\", result.shape[0])\n"
     ]
    },
    {
     "name": "stdout",
     "output_type": "stream",
     "text": [
      "Model Evaluation Metrics:\n",
      "Accuracy: 0.5080\n",
      "Precision (Macro): 0.2540\n",
      "Recall (Macro): 0.5000\n",
      "F1-Score (Macro): 0.3369\n"
     ]
    }
   ],
   "source": [
    "accuracy = accuracy_score(true_labels, pred_labels)\n",
    "precision = precision_score(true_labels, pred_labels, average=\"macro\")\n",
    "recall = recall_score(true_labels, pred_labels, average=\"macro\")\n",
    "f1 = f1_score(true_labels, pred_labels, average=\"macro\")\n",
    "\n",
    "print(\"Model Evaluation Metrics:\")\n",
    "print(f\"Accuracy: {accuracy:.4f}\")\n",
    "print(f\"Precision (Macro): {precision:.4f}\")\n",
    "print(f\"Recall (Macro): {recall:.4f}\")\n",
    "print(f\"F1-Score (Macro): {f1:.4f}\")"
   ]
  },
  {
   "cell_type": "markdown",
   "id": "75dfac8c",
   "metadata": {},
   "source": [
    "## Visualize the Normalized Confusion Matrix\n",
    "\n",
    "We’ll plot a confusion matrix normalized by row (true label) to visualize per-class performance."
   ]
  },
  {
   "cell_type": "code",
   "execution_count": 10,
   "id": "9050c98a",
   "metadata": {},
   "outputs": [
    {
     "data": {
      "image/png": "[encoded data removed]",
      "text/plain": [
       "<Figure size 640x480 with 2 Axes>"
      ]
     },
     "metadata": {},
     "output_type": "display_data"
    }
   ],
   "source": [
    "cm = confusion_matrix(true_labels, pred_labels, normalize='true')\n",
    "disp = ConfusionMatrixDisplay(confusion_matrix=cm, display_labels=model.config.id2label.values())\n",
    "disp.plot(cmap=\"Blues\", values_format=\".2f\")\n",
    "plt.title(\"Normalized Confusion Matrix\")\n",
    "plt.show()"
   ]
  },
  {
   "cell_type": "markdown",
   "id": "37202993",
   "metadata": {},
   "source": [
    "## Error Analysis\n",
    "\n",
    "Next, we identify which class had the **lowest F1-score** and inspect two examples that were misclassified.  \n",
    "This helps reveal potential causes such as **ambiguous language**, **context overlap**, or **label imbalance**."
   ]
  },
  {
   "cell_type": "code",
   "execution_count": 11,
   "id": "8ead8c00",
   "metadata": {},
   "outputs": [
    {
     "name": "stdout",
     "output_type": "stream",
     "text": [
      "Worst Performing Class: LABEL_1 (F1 = 0.0000)\n",
      "\n",
      " Example Misclassifications:\n",
      "\n",
      "Text: <br /><br />When I unsuspectedly rented A Thousand Acres, I thought I was in for an entertaining King Lear story and of course Michelle Pfeiffer was in it, so what could go wrong?<br /><br />Very quickly, however, I realized that this story was about A Thousand Other Things besides just Acres. I sta...\n",
      "True Label: LABEL_1 | Predicted: LABEL_0\n",
      "\n",
      "Text: This is the latest entry in the long series of films with the French agent, O.S.S. 117 (the French answer to James Bond). The series was launched in the early 1950's, and spawned at least eight films (none of which was ever released in the U.S.). 'O.S.S.117:Cairo,Nest Of Spies' is a breezy little co...\n",
      "True Label: LABEL_1 | Predicted: LABEL_0\n"
     ]
    }
   ],
   "source": [
    "labels = sorted(list(set(true_labels)))\n",
    "f1_per_class = f1_score(true_labels, pred_labels, average=None, labels=labels)\n",
    "worst_class_index = np.argmin(f1_per_class)\n",
    "worst_class = model.config.id2label[worst_class_index]\n",
    "\n",
    "print(f\"Worst Performing Class: {worst_class} (F1 = {f1_per_class[worst_class_index]:.4f})\")\n",
    "\n",
    "misclassified_examples = []\n",
    "for i, (true, pred) in enumerate(zip(true_labels, pred_labels)):\n",
    "    if true == worst_class_index and pred != true:\n",
    "        misclassified_examples.append((texts[i], true, pred))\n",
    "    if len(misclassified_examples) >= 2:\n",
    "        break\n",
    "\n",
    "print(\"\\n Example Misclassifications:\")\n",
    "for text, true, pred in misclassified_examples:\n",
    "    print(f\"\\nText: {text[:300]}...\")\n",
    "    print(f\"True Label: {model.config.id2label[true]} | Predicted: {model.config.id2label[pred]}\")\n"
   ]
  },
  {
   "cell_type": "markdown",
   "id": "425014fa",
   "metadata": {},
   "source": [
    "## Metric Justification – Why F1-Score (Macro) is Superior to Accuracy\n",
    "\n",
    "Accuracy measures how often the model predicts correctly overall.  \n",
    "However, in datasets with **class imbalance**, accuracy can be misleading—  \n",
    "a model could predict the dominant class most of the time and still achieve a high score.\n",
    "\n",
    "The **F1-Score (Macro)** averages Precision and Recall equally across all classes,  \n",
    "ensuring that each class contributes fairly to the metric, regardless of size.  \n",
    "This makes it more robust for **imbalanced or nuanced text classification** tasks,  \n",
    "where both **false positives** and **false negatives** matter equally.\n",
    "\n",
    "**Key Takeaway:**  \n",
    "F1-Score (Macro) provides a more truthful measure of balanced model performance,  \n",
    "especially in real-world applications where certain classes are underrepresented."
   ]
  },
  {
   "cell_type": "markdown",
   "id": "646263b0",
   "metadata": {},
   "source": [
    "## Conclusion and Interpretation\n",
    "\n",
    "### Summary of Model Performance\n",
    "The fine-tuned LLM demonstrated solid overall accuracy and macro-averaged scores, indicating it effectively generalized to unseen data.  \n",
    "The confusion matrix revealed that the model was particularly strong at identifying clear positive and negative samples but struggled with more **ambiguous or mixed-sentiment examples**, which often contain nuanced phrasing or sarcasm.\n",
    "\n",
    "### Error Insights\n",
    "Upon reviewing the misclassified examples, we observed that:\n",
    "- The model occasionally misinterpreted **neutral or subtle emotional tones** as positive or negative due to context sensitivity.  \n",
    "- Certain phrases were **domain-specific or idiomatic**, likely underrepresented in the training data.\n",
    "\n",
    "### Metric Interpretation\n",
    "The F1-Score (Macro) balanced both precision and recall across all classes, providing a realistic view of performance even when class distributions were uneven.  \n",
    "While accuracy gives a surface-level measure of correctness, F1 (Macro) highlighted that the model’s weakest class still had measurable recall and precision issues — insights that accuracy alone would have hidden.\n",
    "\n",
    "### Key Takeaway\n",
    "The evaluation process demonstrates that comprehensive model assessment requires **multiple metrics** and **error analysis**, not just overall accuracy.  \n",
    "This deeper understanding helps refine the dataset, adjust fine-tuning parameters, and ultimately improve model fairness and interpretability in future iterations.\n"
   ]
  }
 ],
 "metadata": {
  "kernelspec": {
   "display_name": "tf_env",
   "language": "python",
   "name": "python3"
  },
  "language_info": {
   "codemirror_mode": {
    "name": "ipython",
    "version": 3
   },
   "file_extension": ".py",
   "mimetype": "text/x-python",
   "name": "python",
   "nbconvert_exporter": "python",
   "pygments_lexer": "ipython3",
   "version": "3.11.9"
  }
 },
 "nbformat": 4,
 "nbformat_minor": 5
}
